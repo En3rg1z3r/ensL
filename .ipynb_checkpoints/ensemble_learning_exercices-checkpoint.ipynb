{
 "cells": [
  {
   "cell_type": "markdown",
   "metadata": {
    "id": "CY0mIAVY9I5K"
   },
   "source": [
    "## Coding Exercise #0507"
   ]
  },
  {
   "cell_type": "markdown",
   "metadata": {
    "id": "bcD3EN8-9I5S"
   },
   "source": [
    "### 1. Voting Ensemble:"
   ]
  },
  {
   "cell_type": "code",
   "execution_count": 17,
   "metadata": {
    "id": "UN4ieJLx9I5V"
   },
   "outputs": [],
   "source": [
    "import numpy as np\n",
    "import pandas as pd\n",
    "import warnings\n",
    "from sklearn.model_selection import train_test_split\n",
    "from sklearn.tree import DecisionTreeClassifier\n",
    "from sklearn.neighbors import KNeighborsClassifier\n",
    "from sklearn.linear_model import LogisticRegression\n",
    "from sklearn.ensemble import VotingClassifier\n",
    "from sklearn import metrics\n",
    "from sklearn.datasets import load_breast_cancer\n",
    "warnings.filterwarnings(action='ignore')                  # Turn off the warnings."
   ]
  },
  {
   "cell_type": "markdown",
   "metadata": {
    "id": "3u6rlBAO9I5X"
   },
   "source": [
    "#### 1.1. Read in data:"
   ]
  },
  {
   "cell_type": "code",
   "execution_count": 8,
   "metadata": {
    "id": "TMacGbG69I5f"
   },
   "outputs": [],
   "source": [
    "# Load data.\n",
    "data = load_breast_cancer()"
   ]
  },
  {
   "cell_type": "code",
   "execution_count": 9,
   "metadata": {
    "colab": {
     "base_uri": "https://localhost:8080/"
    },
    "id": "MaHCvszu9I5i",
    "outputId": "f9d71b40-ab34-402f-c83c-2bca49f35a5c"
   },
   "outputs": [
    {
     "name": "stdout",
     "output_type": "stream",
     "text": [
      "['mean radius' 'mean texture' 'mean perimeter' 'mean area'\n",
      " 'mean smoothness' 'mean compactness' 'mean concavity'\n",
      " 'mean concave points' 'mean symmetry' 'mean fractal dimension'\n",
      " 'radius error' 'texture error' 'perimeter error' 'area error'\n",
      " 'smoothness error' 'compactness error' 'concavity error'\n",
      " 'concave points error' 'symmetry error' 'fractal dimension error'\n",
      " 'worst radius' 'worst texture' 'worst perimeter' 'worst area'\n",
      " 'worst smoothness' 'worst compactness' 'worst concavity'\n",
      " 'worst concave points' 'worst symmetry' 'worst fractal dimension']\n"
     ]
    }
   ],
   "source": [
    "# Explanatory variables.\n",
    "X = data['data']\n",
    "print(data['feature_names'])"
   ]
  },
  {
   "cell_type": "code",
   "execution_count": 10,
   "metadata": {
    "colab": {
     "base_uri": "https://localhost:8080/"
    },
    "id": "bukJKyKJ9I5k",
    "outputId": "bd1bbb7e-a731-43d7-a8e8-54d4e7954fd9"
   },
   "outputs": [
    {
     "data": {
      "text/plain": [
       "(569, 30)"
      ]
     },
     "execution_count": 10,
     "metadata": {},
     "output_type": "execute_result"
    }
   ],
   "source": [
    "X.shape"
   ]
  },
  {
   "cell_type": "code",
   "execution_count": 11,
   "metadata": {
    "colab": {
     "base_uri": "https://localhost:8080/"
    },
    "id": "GJmzxSS59I5n",
    "outputId": "3772077b-4cd7-41ce-aba7-7bb9b5952c97"
   },
   "outputs": [
    {
     "name": "stdout",
     "output_type": "stream",
     "text": [
      "['benign', 'malignant']\n"
     ]
    }
   ],
   "source": [
    "# Response variable.\n",
    "# Relabel such that 0 = 'benign' and 1 = malignant.\n",
    "Y = 1 - data['target']\n",
    "label = list(data['target_names'])\n",
    "label.reverse()\n",
    "print(label)"
   ]
  },
  {
   "cell_type": "code",
   "execution_count": 12,
   "metadata": {
    "id": "5u5LbN3-9I5q"
   },
   "outputs": [],
   "source": [
    "X_train, X_test, Y_train, Y_test = train_test_split(X, Y, test_size=0.3, random_state=1234)"
   ]
  },
  {
   "cell_type": "markdown",
   "metadata": {
    "id": "99vFFuNK9I5s"
   },
   "source": [
    "#### 1.2. Predicting with individual estimator:\n",
    "\n",
    "\n",
    "Question 1 : Use Decision tree with max_depth=10, KNN with k = 5 and Logistic Regression to classify your data."
   ]
  },
  {
   "cell_type": "code",
   "execution_count": 19,
   "metadata": {
    "id": "YGyRZM2N9I5t"
   },
   "outputs": [
    {
     "name": "stdout",
     "output_type": "stream",
     "text": [
      "score:0.935672514619883\n"
     ]
    }
   ],
   "source": [
    "# Classification Tree.\n",
    "clfTree = DecisionTreeClassifier(max_depth=10)\n",
    "clfTree = clfTree.fit(X_train, Y_train)\n",
    "Y_pred=clfTree.predict(X_test)\n",
    "print(\"score:{}\".format(metrics.accuracy_score(Y_test, Y_pred)))"
   ]
  },
  {
   "cell_type": "code",
   "execution_count": 27,
   "metadata": {
    "id": "A6xyG89Q9I5t"
   },
   "outputs": [
    {
     "name": "stdout",
     "output_type": "stream",
     "text": [
      "score:0.935672514619883\n"
     ]
    }
   ],
   "source": [
    "# Classification with KNN\n",
    "clfKNN = KNeighborsClassifier(n_neighbors=5)\n",
    "clfKNN.fit(X_train, Y_train)\n",
    "Y_pred=clfKNN.predict(X_test)\n",
    "print(\"score:{}\".format(metrics.accuracy_score(Y_test, Y_pred)))"
   ]
  },
  {
   "cell_type": "code",
   "execution_count": 28,
   "metadata": {
    "id": "NT1XJXFE9I5u"
   },
   "outputs": [
    {
     "name": "stdout",
     "output_type": "stream",
     "text": [
      "score:0.9239766081871345\n"
     ]
    }
   ],
   "source": [
    "# Classification with Logistic Regression.\n",
    "clfLogReg= LogisticRegression()\n",
    "clfLogReg.fit(X_train, Y_train)\n",
    "Y_pred= clfLogReg.predict(X_test)\n",
    "print(\"score:{}\".format(metrics.accuracy_score(Y_test, Y_pred)))"
   ]
  },
  {
   "cell_type": "markdown",
   "metadata": {
    "id": "3pDpKvwM9I5u"
   },
   "source": [
    "#### 1.3. Predicting with a voting ensemble:\n",
    "\n",
    "The EnsembleVoteClassifier is a meta-classifier for combining similar or conceptually different machine learning classifiers for classification via majority or plurality voting.In hard voting, we predict the final class label as the class label that has been predicted most frequently by the classification models\n",
    "\n",
    "Question:  \n",
    "\n",
    "- Use VotingClassifier () ensemble method with DTC, KNN, LR set voting to hard, then fit your training data. (hint : consider using the  `estimator` parameter )\n",
    "\n",
    "- Use VotingClassifier () ensemble method with DTC, KNN, LR set voting to soft, then fit your training data. \n",
    "\n",
    "-Compare the two results.\n",
    "\n",
    "\n",
    "https://www.geeksforgeeks.org/ml-voting-classifier-using-sklearn/"
   ]
  },
  {
   "cell_type": "code",
   "execution_count": 33,
   "metadata": {
    "id": "QWR8dWqg9I5v"
   },
   "outputs": [
    {
     "name": "stdout",
     "output_type": "stream",
     "text": [
      "Voting Classifier Accuracy  using hard strategy : 0.959\n"
     ]
    }
   ],
   "source": [
    "\n",
    "\n",
    "###your code goes here!\n",
    "algos = [(\"DTC\", clfTree), (\"KNN\",clfKNN), (\"LR\",clfLogReg)]\n",
    "VC = VotingClassifier(estimators=algos)\n",
    "VC.fit(X_train, Y_train)\n",
    "Y_pred = VC.predict(X_test)\n",
    "print( \"Voting Classifier Accuracy  using hard strategy : \" + str(np.round(metrics.accuracy_score(Y_test,Y_pred),3)))"
   ]
  },
  {
   "cell_type": "code",
   "execution_count": 34,
   "metadata": {
    "id": "k7UZuHpe9I5v"
   },
   "outputs": [
    {
     "name": "stdout",
     "output_type": "stream",
     "text": [
      "Voting Classifier Accuracy using soft strategy : 0.959\n"
     ]
    }
   ],
   "source": [
    "Y_pred = VC.predict(X_test)\n",
    "print( \"Voting Classifier Accuracy using soft strategy : \" + str(np.round(metrics.accuracy_score(Y_test,Y_pred),3)))"
   ]
  },
  {
   "cell_type": "code",
   "execution_count": null,
   "metadata": {
    "id": "v9e73vAe9I5w"
   },
   "outputs": [],
   "source": []
  }
 ],
 "metadata": {
  "colab": {
   "name": "Copy of ex_0507.ipynb",
   "provenance": []
  },
  "kernelspec": {
   "display_name": "Python 3",
   "language": "python",
   "name": "python3"
  },
  "language_info": {
   "codemirror_mode": {
    "name": "ipython",
    "version": 3
   },
   "file_extension": ".py",
   "mimetype": "text/x-python",
   "name": "python",
   "nbconvert_exporter": "python",
   "pygments_lexer": "ipython3",
   "version": "3.9.5"
  },
  "toc": {
   "base_numbering": 1,
   "nav_menu": {},
   "number_sections": true,
   "sideBar": true,
   "skip_h1_title": false,
   "title_cell": "Table of Contents",
   "title_sidebar": "Contents",
   "toc_cell": false,
   "toc_position": {},
   "toc_section_display": true,
   "toc_window_display": false
  },
  "varInspector": {
   "cols": {
    "lenName": 16,
    "lenType": 16,
    "lenVar": 40
   },
   "kernels_config": {
    "python": {
     "delete_cmd_postfix": "",
     "delete_cmd_prefix": "del ",
     "library": "var_list.py",
     "varRefreshCmd": "print(var_dic_list())"
    },
    "r": {
     "delete_cmd_postfix": ") ",
     "delete_cmd_prefix": "rm(",
     "library": "var_list.r",
     "varRefreshCmd": "cat(var_dic_list()) "
    }
   },
   "types_to_exclude": [
    "module",
    "function",
    "builtin_function_or_method",
    "instance",
    "_Feature"
   ],
   "window_display": false
  }
 },
 "nbformat": 4,
 "nbformat_minor": 1
}
